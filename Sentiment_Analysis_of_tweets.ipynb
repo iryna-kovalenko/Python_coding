{
  "nbformat": 4,
  "nbformat_minor": 0,
  "metadata": {
    "colab": {
      "name": "Cropped_Final_AI.ipynb",
      "provenance": [],
      "collapsed_sections": []
    },
    "kernelspec": {
      "name": "python3",
      "display_name": "Python 3"
    }
  },
  "cells": [
    {
      "cell_type": "markdown",
      "metadata": {
        "id": "Eionk1Q6POsk"
      },
      "source": [
        "Data preprocessing and splitting   "
      ]
    },
    {
      "cell_type": "code",
      "metadata": {
        "id": "HTAygkl9PQXm",
        "colab": {
          "base_uri": "https://localhost:8080/"
        },
        "outputId": "c104a279-bc42-4de1-c8f1-0c6a29bd0204"
      },
      "source": [
        "#Labels are binary 1 is negative and 2 is posiitive \n",
        "import re\n",
        "import pandas as pd\n",
        "import nltk\n",
        "from nltk.tokenize import sent_tokenize as st, word_tokenize as wt\n",
        "from sklearn.feature_extraction.text import CountVectorizer\n",
        "import matplotlib.pyplot as plt\n",
        "from wordcloud import WordCloud\n",
        "import string\n",
        "from nltk.corpus import stopwords\n",
        "import numpy as np\n",
        "from sklearn.metrics import confusion_matrix\n",
        "import matplotlib.pyplot as plt\n",
        "import seaborn as sns\n",
        "from nltk import SnowballStemmer\n",
        "\n",
        "\n",
        "# read lexicom from csv file\n",
        "df_with_links=pd.read_csv('coronavirus-tweet-id-2020-01-24-20.csv')\n",
        "df_lexicon=pd.read_csv('lexicon_1.csv',encoding='ISO-8859-1')\n",
        "\n",
        "\n",
        "\n",
        "#PREPROCESSING \n",
        "\n",
        "# creting 2 Dictionaries One for positive, one for negative \n",
        "dict_positive={}\n",
        "dict_negative={}\n",
        "sn_vocab=SnowballStemmer('english')\n",
        "for key,value_positive,value_negative in zip(df_lexicon['English'],df_lexicon['Positive'],df_lexicon['Negative']):\n",
        "    stemed_key=sn_vocab.stem(str(key))\n",
        "    # I want to put steaned key in one colums, values in other and then remove duplicated and store it in Dictionary\n",
        "    dict_positive.update({stemed_key:value_positive})\n",
        "    dict_negative.update({stemed_key:value_negative})\n",
        "\n",
        "\n",
        "nltk.download('stopwords')\n",
        "stop_words=set(stopwords.words('english'))\n",
        "# method to remove URL's, @ and # from the text\n",
        "def remove_urls_at_hash(new_list,data_column):\n",
        "    for t in data_column:\n",
        "        newT=re.sub('http://\\S+|https://\\S+','',t) #removing http/https\n",
        "        no_at=re.sub('@\\S+|#\\S+|\\n|RT|rt','',newT) # removing @,#,\\n,rt\n",
        "        if newT!=no_at : \n",
        "            newT=no_at\n",
        "        if t==newT:\n",
        "            new_list.append(t)\n",
        "        elif t!=newT:\n",
        "            new_list.append(newT)\n",
        "        \n",
        "\n",
        "#method to remove 1)punctuation 2)stop_words           \n",
        "def text_cleaning(txt):\n",
        "    cleaned_tweets=[] #list\n",
        "    def hasNumbers(inputString):\n",
        "      return any(char.isdigit() for char in inputString)\n",
        "  \n",
        "    no_dig_tweets=[]  \n",
        "    temp_no_dig_tweets=[] \n",
        "    for tw_1 in txt:\n",
        "      for this_word in tw_1.split():\n",
        "        if not hasNumbers(this_word):\n",
        "          temp_no_dig_tweets.append(this_word.lower())\n",
        "        word=\" \".join(temp_no_dig_tweets)\n",
        "      no_dig_tweets.append(word)\n",
        "      temp_no_dig_tweets=[]\n",
        "\n",
        "    for tweet in no_dig_tweets:\n",
        "        text_remove_punt=[char for char in tweet if char not in string.punctuation] #in char is not in punctuation list then return\n",
        "        text_gather_chars_into_words=''.join(text_remove_punt).split()#make 1 long string and split into words\n",
        "        text_remove_stop_words=[w for w in text_gather_chars_into_words if w.lower() not in stop_words] #if word not in list then  return \n",
        "        cleaned_tweets.append(text_remove_stop_words)\n",
        "    return cleaned_tweets\n",
        "\n",
        "\n",
        "# method to remove duplicate tweets \n",
        "def remove_duplicates(df_for_removing_duplicates):\n",
        "    converting_into_set=set(df_for_removing_duplicates) # to remove duplicates from our tweets, we use set, as it contains only uniq values\n",
        "    return converting_into_set\n",
        "\n",
        "# steming STEP ONE --> stem tweets ['','','']\n",
        "\n",
        "def stemming(tweets):\n",
        "  stemed_tweets=[]\n",
        "  sn=SnowballStemmer('english')\n",
        "  for tweet in tweets:\n",
        "    temp_tweet=[]\n",
        "    line=''\n",
        "    for word in tweet.split():\n",
        "      temp_tweet.append(sn.stem(word))\n",
        "      line=\" \".join(temp_tweet)\n",
        "    stemed_tweets.append(line)\n",
        "  return stemed_tweets\n",
        "# ANNOTATION -> LABELING \n",
        "# creting 2 Dictionaries One for positive, one for negative \n",
        "dict_positive={}\n",
        "dict_negative={}\n",
        "for key,value_positive,value_negative in zip(df_lexicon['English'],df_lexicon['Positive'],df_lexicon['Negative']):\n",
        "    dict_positive.update({key:value_positive})\n",
        "    dict_negative.update({key:value_negative})\n",
        "\n",
        "#method for polarity retuens 2- positive, 1-negative, 0- nutral sentence sentiment \n",
        "\n",
        "neg_score_list=[]\n",
        "pos_score_list=[]\n",
        "def polarity(tweet_sentence):\n",
        "    positive_score=0\n",
        "    negative_score=0\n",
        "    score=0\n",
        "    #Labels are binary 1 is negative and 2/0 is posiitive \n",
        "    for word in str(tweet_sentence).split():\n",
        "        if dict_positive.get(word)!=None:\n",
        "            if dict_positive.get(word)==1:\n",
        "                positive_score=positive_score+1\n",
        "            if dict_negative.get(word)==1:\n",
        "                negative_score=negative_score+1           \n",
        "    score=positive_score-negative_score\n",
        "    pos_score_list.append(positive_score)# update list with positive scored by tweet\n",
        "    neg_score_list.append(negative_score)\n",
        "    if score>=0: return 2 \n",
        "    elif score<0: return 1\n",
        "\n",
        "#METHOD CALLS\n",
        "rem=[]   #list         \n",
        "remove_urls_at_hash(new_list=rem,data_column=df_with_links['text'])\n",
        "clean_data=text_cleaning(rem) # removing punctuation, stop words\n",
        "#to make a from a nested list regular list\n",
        "clean_data_list=[]\n",
        "for ii in clean_data:\n",
        "    clean_data_list.append(' '.join(ii))\n",
        "\n",
        "no_duplicates=remove_duplicates(clean_data_list)\n",
        "#call steming\n",
        "stemed_tweets=stemming(no_duplicates)\n",
        "\n",
        "\n",
        "# create a column of calculated polarities \n",
        "polarity_column=[] #list\n",
        "for tweet in no_duplicates:\n",
        "    polarity_column.append(polarity(tweet)) \n",
        "\n",
        "df_no_duplicate=pd.DataFrame(stemed_tweets) # casting into Data Frame, so we can use it for vectorization\n",
        "\n",
        "#Bag of Words using CountVectorizer from sklearn\n",
        "\n",
        "vectorizer=CountVectorizer()\n",
        "x=vectorizer.fit_transform(no_duplicates)#get vocab then build vector then make an array\n",
        "features_extracted=vectorizer.vocabulary_\n",
        "\n",
        "# NEXT STEP IS TO ADD LABELING TO OUR DATASET\n",
        "# 1.1 after vectorization we have as a result a matrix\n",
        "matrix_to_array=x.toarray() #1.2 make matrix to array\n",
        "array_to_df=pd.DataFrame(matrix_to_array)# an array to dataframe\n",
        "array_to_df['label']=polarity_column # now append label to the df\n"
      ],
      "execution_count": null,
      "outputs": [
        {
          "output_type": "stream",
          "text": [
            "[nltk_data] Downloading package stopwords to /root/nltk_data...\n",
            "[nltk_data]   Unzipping corpora/stopwords.zip.\n"
          ],
          "name": "stdout"
        }
      ]
    },
    {
      "cell_type": "markdown",
      "metadata": {
        "id": "CwLqfEJcPiJt"
      },
      "source": [
        "Splitting the data"
      ]
    },
    {
      "cell_type": "code",
      "metadata": {
        "id": "CWjRBNWZPlXv",
        "colab": {
          "base_uri": "https://localhost:8080/"
        },
        "outputId": "fce227d8-2aa6-4700-d84e-ac424213492b"
      },
      "source": [
        "# DEVIDE INTO TRAINING AND TESTING SET \n",
        "data_split=np.random.rand(len(array_to_df))<0.80# take true/false table to split the data, all true will go traiting , all false will fo testing data\n",
        "train=array_to_df[data_split] # training set based on randomly selested values 80%\n",
        "test=array_to_df[~data_split] # testing set based on 20% randomly seleted values\n",
        "print(' Size of training set : ', len(train))\n",
        "print(' Size of testing set : ', len(test))\n",
        "\n",
        "# split into independednt and dependednt value for training\n",
        "leng=len(train.axes[1])-1\n",
        "x_train=train.iloc[:,0:leng]\n",
        "y_train=train.iloc[:,leng]\n",
        "\n",
        "# split into independednt and dependednt value for testing\n",
        "x_test=test.iloc[:,0:leng]\n",
        "y_test=test.iloc[:,leng]\n",
        "\n",
        "print(array_to_df['label'].value_counts())"
      ],
      "execution_count": null,
      "outputs": [
        {
          "output_type": "stream",
          "text": [
            " Size of training set :  6280\n",
            " Size of testing set :  1466\n",
            "2    5086\n",
            "1    2660\n",
            "Name: label, dtype: int64\n"
          ],
          "name": "stdout"
        }
      ]
    },
    {
      "cell_type": "markdown",
      "metadata": {
        "id": "QJZmdbWSPmTl"
      },
      "source": [
        "**K nearest neighbor** (finding the best K)"
      ]
    },
    {
      "cell_type": "code",
      "metadata": {
        "id": "1khXmrxuPo2Z",
        "colab": {
          "base_uri": "https://localhost:8080/",
          "height": 643
        },
        "outputId": "782f5f0c-35e6-448e-dc3b-e84b51992398"
      },
      "source": [
        "#KNeighborsClassifier for binary data\n",
        "from sklearn.neighbors import KNeighborsClassifier\n",
        "from sklearn import metrics\n",
        "\n",
        "model_one = KNeighborsClassifier(n_neighbors = 2 ,metric='matching').fit(x_train,y_train)\n",
        "yhat=model_one.predict(x_test) \n",
        "print(\":using matching metric is \",metrics.accuracy_score(y_test, yhat))\n",
        "\n",
        "cm = pd.crosstab(yhat,y_test,rownames=['Predicted'], colnames=['Actual'])\n",
        "plt.figure(figsize = (10, 10))\n",
        "sns.heatmap(cm, annot = True,fmt='d')"
      ],
      "execution_count": null,
      "outputs": [
        {
          "output_type": "stream",
          "text": [
            ":using matching metric is  0.7728512960436562\n"
          ],
          "name": "stdout"
        },
        {
          "output_type": "execute_result",
          "data": {
            "text/plain": [
              "<matplotlib.axes._subplots.AxesSubplot at 0x7ff3385a5860>"
            ]
          },
          "metadata": {
            "tags": []
          },
          "execution_count": 3
        },
        {
          "output_type": "display_data",
          "data": {
            "image/png": "[encoded data removed]",
            "text/plain": [
              "<Figure size 720x720 with 2 Axes>"
            ]
          },
          "metadata": {
            "tags": [],
            "needs_background": "light"
          }
        }
      ]
    },
    {
      "cell_type": "markdown",
      "metadata": {
        "id": "teZYeKnPPx5i"
      },
      "source": [
        "Stratified K Fold preparing data "
      ]
    },
    {
      "cell_type": "code",
      "metadata": {
        "id": "buPL1DXrPzrp"
      },
      "source": [
        "#using Stratified K Fold to split then train for K Neighbors Classifier on BINARY data\n",
        "import numpy as np\n",
        "from sklearn.model_selection import StratifiedKFold\n",
        "leng=len(array_to_df.axes[1])-1\n",
        "X=array_to_df.iloc[:,0:leng]\n",
        "y=array_to_df.iloc[:,leng]\n"
      ],
      "execution_count": null,
      "outputs": []
    },
    {
      "cell_type": "markdown",
      "metadata": {
        "id": "14JmGagzP0ph"
      },
      "source": [
        "Stratified K Fold Model  (It takes forever because of the 20 splits, reduce splits for faster calculation)"
      ]
    },
    {
      "cell_type": "code",
      "metadata": {
        "id": "7_AmXeULP3S-",
        "colab": {
          "base_uri": "https://localhost:8080/",
          "height": 425
        },
        "outputId": "7db6d46f-b74b-4ae8-9cf5-fe7364cb44cd"
      },
      "source": [
        "from sklearn.metrics import classification_report\n",
        "\n",
        "skf = StratifiedKFold(n_splits=20)\n",
        "for train_index, test_index in skf.split(X, y):\n",
        "  x_train=X.iloc[train_index,:]\n",
        "  x_test=X.iloc[test_index,:]\n",
        "  y_train, y_test = y[train_index], y[test_index]\n",
        "\n",
        "\n",
        "  model_one = KNeighborsClassifier(n_neighbors = 2 ,metric='matching').fit(x_train,y_train)\n",
        "  yhat=model_one.predict(x_test) # we use X_test to predict y_test\n",
        "  print('split ',i,\":using matching metric is \",metrics.accuracy_score(y_test, yhat))\n",
        "  i=i+1\n"
      ],
      "execution_count": null,
      "outputs": [
        {
          "output_type": "stream",
          "text": [
            "split  1 :using matching metric is  0.7396907216494846\n",
            "split  2 :using matching metric is  0.7448453608247423\n",
            "split  3 :using matching metric is  0.7963917525773195\n",
            "split  4 :using matching metric is  0.729381443298969\n",
            "split  5 :using matching metric is  0.7242268041237113\n",
            "split  6 :using matching metric is  0.7551546391752577\n",
            "split  7 :using matching metric is  0.7881136950904393\n",
            "split  8 :using matching metric is  0.7855297157622739\n",
            "split  9 :using matching metric is  0.7416020671834626\n",
            "split  10 :using matching metric is  0.7803617571059431\n",
            "split  11 :using matching metric is  0.7674418604651163\n",
            "split  12 :using matching metric is  0.7571059431524548\n",
            "split  13 :using matching metric is  0.751937984496124\n",
            "split  14 :using matching metric is  0.7648578811369509\n",
            "split  15 :using matching metric is  0.7881136950904393\n",
            "split  16 :using matching metric is  0.7648578811369509\n",
            "split  17 :using matching metric is  0.7493540051679587\n",
            "split  18 :using matching metric is  0.772609819121447\n",
            "split  19 :using matching metric is  0.7622739018087855\n",
            "split  20 :using matching metric is  0.7312661498708011\n"
          ],
          "name": "stdout"
        },
        {
          "output_type": "execute_result",
          "data": {
            "application/vnd.google.colaboratory.intrinsic+json": {
              "type": "string"
            },
            "text/plain": [
              "\"\\ncm = pd.crosstab(yhat,y_test,rownames=['Predicted'], colnames=['Actual'])\\nplt.figure(figsize = (10, 10))\\nsns.heatmap(cm, annot = True,fmt='d')\\n\\nprint(classification_report(y_test,yhat))\\n\""
            ]
          },
          "metadata": {
            "tags": []
          },
          "execution_count": 8
        }
      ]
    },
    {
      "cell_type": "markdown",
      "metadata": {
        "id": "LwD5t5QUP56E"
      },
      "source": [
        "Logistic Regression with binary data"
      ]
    },
    {
      "cell_type": "code",
      "metadata": {
        "id": "2A6nV6WtP7qh",
        "colab": {
          "base_uri": "https://localhost:8080/",
          "height": 793
        },
        "outputId": "159710a2-5ff0-4dc1-b79b-892dd311fc4b"
      },
      "source": [
        "from sklearn.linear_model import LogisticRegression\n",
        "from sklearn.metrics import classification_report\n",
        "\n",
        "\n",
        "LR = LogisticRegression(C=0.5, solver='saga',multi_class='multinomial',class_weight='balanced',max_iter=100).fit(x_train,y_train)\n",
        "yhat=LR.predict(x_test)\n",
        "print('metrics.accuracy_score : ',metrics.accuracy_score(y_test,yhat ))\n",
        "\n",
        "cm = pd.crosstab(yhat,y_test,rownames=['Predicted'], colnames=['Actual'])\n",
        "plt.figure(figsize = (10, 10))\n",
        "sns.heatmap(cm, annot = True,fmt='d')\n",
        "print(classification_report(y_test,yhat))\n"
      ],
      "execution_count": null,
      "outputs": [
        {
          "output_type": "stream",
          "text": [
            "metrics.accuracy_score :  0.8601637107776262\n",
            "              precision    recall  f1-score   support\n",
            "\n",
            "           1       0.80      0.77      0.79       486\n",
            "           2       0.89      0.90      0.90       980\n",
            "\n",
            "    accuracy                           0.86      1466\n",
            "   macro avg       0.84      0.84      0.84      1466\n",
            "weighted avg       0.86      0.86      0.86      1466\n",
            "\n"
          ],
          "name": "stdout"
        },
        {
          "output_type": "display_data",
          "data": {
            "image/png": "[encoded data removed]",
            "text/plain": [
              "<Figure size 720x720 with 2 Axes>"
            ]
          },
          "metadata": {
            "tags": [],
            "needs_background": "light"
          }
        }
      ]
    },
    {
      "cell_type": "markdown",
      "metadata": {
        "id": "7DZ2fZGiWQvv"
      },
      "source": [
        "Testing has number method"
      ]
    },
    {
      "cell_type": "code",
      "metadata": {
        "id": "kumqK4T_TrPI"
      },
      "source": [
        "lower_case=['sdf 234fds  sdfsd 1234 1234  123 ds3fds3fds ','fsdfj sdfdsds gdgf3443 34323sfd 324dfs']\n",
        "\n",
        "def hasNumbers(inputString):\n",
        "  return any(char.isdigit() for char in inputString)\n",
        "  \n",
        "no_dig_tweets=[]  \n",
        "temp_no_dig_tweets=[] \n",
        "for tw_1 in rem:\n",
        "  for this_word in tw_1.split():\n",
        "    if not hasNumbers(this_word):\n",
        "      temp_no_dig_tweets.append(this_word)\n",
        "      word=\" \".join(temp_no_dig_tweets)\n",
        "  no_dig_tweets.append(word)\n",
        "  temp_no_dig_tweets=[]\n",
        "\n"
      ],
      "execution_count": null,
      "outputs": []
    },
    {
      "cell_type": "markdown",
      "metadata": {
        "id": "2A1xgH-EWTv2"
      },
      "source": [
        "Multinomial NB"
      ]
    },
    {
      "cell_type": "code",
      "metadata": {
        "id": "vq3TTLdZxY8R",
        "colab": {
          "base_uri": "https://localhost:8080/",
          "height": 793
        },
        "outputId": "1a7f201a-6573-4014-d4f5-b3588a433bb2"
      },
      "source": [
        "from sklearn.naive_bayes import MultinomialNB\n",
        "\n",
        "model_two = MultinomialNB(fit_prior='False').fit(x_train, y_train)\n",
        "yhat = model_two.predict(x_test)\n",
        "print('MultinomialNB accuracy_score : ',metrics.accuracy_score(y_test, yhat))\n",
        "\n",
        "cm = pd.crosstab(yhat,y_test,rownames=['Predicted'], colnames=['Actual'])\n",
        "plt.figure(figsize = (10, 10))\n",
        "sns.heatmap(cm, annot = True,fmt='d')\n",
        "print(classification_report(y_test,yhat))\n",
        "\n"
      ],
      "execution_count": null,
      "outputs": [
        {
          "output_type": "stream",
          "text": [
            "MultinomialNB accuracy_score :  0.7830832196452933\n",
            "              precision    recall  f1-score   support\n",
            "\n",
            "           1       0.69      0.63      0.66       486\n",
            "           2       0.82      0.86      0.84       980\n",
            "\n",
            "    accuracy                           0.78      1466\n",
            "   macro avg       0.76      0.74      0.75      1466\n",
            "weighted avg       0.78      0.78      0.78      1466\n",
            "\n"
          ],
          "name": "stdout"
        },
        {
          "output_type": "display_data",
          "data": {
            "image/png": "[encoded data removed]",
            "text/plain": [
              "<Figure size 720x720 with 2 Axes>"
            ]
          },
          "metadata": {
            "tags": [],
            "needs_background": "light"
          }
        }
      ]
    },
    {
      "cell_type": "markdown",
      "metadata": {
        "id": "P2BvRF5kWWcF"
      },
      "source": [
        "Gaussian NB"
      ]
    },
    {
      "cell_type": "code",
      "metadata": {
        "id": "ouIyKciShk5u",
        "colab": {
          "base_uri": "https://localhost:8080/",
          "height": 793
        },
        "outputId": "4fc30430-4561-4c0a-9d55-fa6e21056fec"
      },
      "source": [
        "from sklearn.datasets import load_iris\n",
        "from sklearn.model_selection import train_test_split\n",
        "from sklearn.naive_bayes import GaussianNB\n",
        "\n",
        "model_GaussianNB = GaussianNB().fit(x_train, y_train)\n",
        "yhat = model_GaussianNB.predict(x_test)\n",
        "print('GaussianNB accuracy_score : ',metrics.accuracy_score(y_test, yhat))\n",
        "\n",
        "cm = pd.crosstab(yhat,y_test,rownames=['Predicted'], colnames=['Actual'])\n",
        "plt.figure(figsize = (10, 10))\n",
        "sns.heatmap(cm, annot = True,fmt='d')\n",
        "print(classification_report(y_test,yhat))\n"
      ],
      "execution_count": null,
      "outputs": [
        {
          "output_type": "stream",
          "text": [
            "GaussianNB accuracy_score :  0.5177353342428377\n",
            "              precision    recall  f1-score   support\n",
            "\n",
            "           1       0.38      0.74      0.50       486\n",
            "           2       0.76      0.41      0.53       980\n",
            "\n",
            "    accuracy                           0.52      1466\n",
            "   macro avg       0.57      0.57      0.52      1466\n",
            "weighted avg       0.63      0.52      0.52      1466\n",
            "\n"
          ],
          "name": "stdout"
        },
        {
          "output_type": "display_data",
          "data": {
            "image/png": "[encoded data removed]",
            "text/plain": [
              "<Figure size 720x720 with 2 Axes>"
            ]
          },
          "metadata": {
            "tags": [],
            "needs_background": "light"
          }
        }
      ]
    },
    {
      "cell_type": "markdown",
      "metadata": {
        "id": "f1OFbD6EWZyy"
      },
      "source": [
        "Complement NB"
      ]
    },
    {
      "cell_type": "code",
      "metadata": {
        "id": "TYbykHyVkXI1",
        "colab": {
          "base_uri": "https://localhost:8080/",
          "height": 793
        },
        "outputId": "59f616c7-1a07-41af-c545-76a9e0c9a6e2"
      },
      "source": [
        "from sklearn.naive_bayes import ComplementNB\n",
        "model_ComplementNB = ComplementNB(norm=\"True\").fit(x_train, y_train)\n",
        "yhat = model_ComplementNB.predict(x_test)\n",
        "print('ComplementNB accuracy_score : ',metrics.accuracy_score(y_test, yhat))\n",
        "\n",
        "cm = pd.crosstab(yhat,y_test,rownames=['Predicted'], colnames=['Actual'])\n",
        "plt.figure(figsize = (10, 10))\n",
        "sns.heatmap(cm, annot = True,fmt='d')\n",
        "print(classification_report(y_test,yhat))\n"
      ],
      "execution_count": null,
      "outputs": [
        {
          "output_type": "stream",
          "text": [
            "ComplementNB accuracy_score :  0.781718963165075\n",
            "              precision    recall  f1-score   support\n",
            "\n",
            "           1       0.71      0.58      0.64       486\n",
            "           2       0.81      0.88      0.84       980\n",
            "\n",
            "    accuracy                           0.78      1466\n",
            "   macro avg       0.76      0.73      0.74      1466\n",
            "weighted avg       0.78      0.78      0.78      1466\n",
            "\n"
          ],
          "name": "stdout"
        },
        {
          "output_type": "display_data",
          "data": {
            "image/png": "[encoded data removed]",
            "text/plain": [
              "<Figure size 720x720 with 2 Axes>"
            ]
          },
          "metadata": {
            "tags": [],
            "needs_background": "light"
          }
        }
      ]
    },
    {
      "cell_type": "code",
      "metadata": {
        "id": "cnYdCwWhav6t"
      },
      "source": [
        ""
      ],
      "execution_count": null,
      "outputs": []
    }
  ]
}